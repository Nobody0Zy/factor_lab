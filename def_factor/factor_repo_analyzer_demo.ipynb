{
 "cells": [
  {
   "cell_type": "code",
   "execution_count": null,
   "metadata": {},
   "outputs": [],
   "source": [
    "import jqfactor_analyzer as fa\n",
    "import numpy as np \n",
    "import pandas as pd \n",
    "import random\n",
    "from matplotlib import pyplot as plt\n",
    "import factor_repo\n",
    "import warnings\n",
    "warnings.filterwarnings('ignore')"
   ]
  },
  {
   "cell_type": "code",
   "execution_count": null,
   "metadata": {},
   "outputs": [],
   "source": [
    "a_date_bar_file_path = r'D:\\QUANT_GAME\\python_game\\factor\\factor_lab\\get_date_bar\\date_bar_post.pkl'\n",
    "a_date_bar = pd.read_pickle(a_date_bar_file_path)\n",
    "# a_date_bar = pd.read_pickle(r'D:\\QUANT_GAME\\python_game\\pythonProject\\DATA\\local_stable_data\\stock\\CN_stock_data\\dateBar.pkl')\n",
    "idx = pd.IndexSlice"
   ]
  },
  {
   "cell_type": "code",
   "execution_count": null,
   "metadata": {},
   "outputs": [],
   "source": [
    "def get_stk_list(date_bar):\n",
    "    total_stk_list = list(date_bar.index.get_level_values(0).unique())\n",
    "    index_codes_list = [idx_code  for idx_code in total_stk_list if (idx_code<'sh600000')|(idx_code>'sz399000')]\n",
    "    stks_list = [security  for security in total_stk_list if security not in index_codes_list]\n",
    "    return stks_list\n",
    "\n",
    "def get_prepare_data(date_bar,fields,stk_list,del_paused=False,every_date_stk_nums=None,start_date=None,end_date=None)->pd.Series:\n",
    "    data = date_bar.copy()\n",
    "    data.index.names = ['stk','date']\n",
    "    \n",
    "    \n",
    "    if stk_list:\n",
    "        data = data.loc[idx[stk_list,:],:]\n",
    "        \n",
    "    if every_date_stk_nums:\n",
    "        if del_paused:\n",
    "            data = data[data['paused']==0]\n",
    "    \n",
    "        data = data.groupby('date',group_keys=False).apply(lambda s:s.sample(every_date_stk_nums) if len(s)>every_date_stk_nums else s)\n",
    "        data.sort_index(inplace=True)\n",
    "        \n",
    "    if start_date:\n",
    "        data = data.loc[idx[:,start_date:],:]\n",
    "    if end_date:\n",
    "        data = data.loc[idx[:,:end_date],:]\n",
    "    if start_date and end_date:\n",
    "        data = data.loc[idx[:,start_date:end_date],:]\n",
    "    \n",
    "    data = data.loc[:,fields]\n",
    "    return data\n"
   ]
  },
  {
   "cell_type": "code",
   "execution_count": null,
   "metadata": {},
   "outputs": [],
   "source": [
    "# 获取准备的日线\n",
    "def get_prepare_date_bar(date_bar,start_date,end_date):\n",
    "    stk_list = list(date_bar.index.get_level_values(0).unique())\n",
    "    index_codes_list = [idx_code  for idx_code in stk_list if (idx_code<'sh600000')|(idx_code>'sz399000')]\n",
    "    securities_list = [security  for security in stk_list if security not in index_codes_list]\n",
    "    date_bar.index.names = ['stk','date']\n",
    "    prepare_date_bar = date_bar.loc[idx[securities_list,:],:].groupby(\\\n",
    "        'stk',group_keys=False).apply(lambda df:df.ffill()).dropna()\n",
    "    return prepare_date_bar.loc[idx[:,start_date:end_date],:]"
   ]
  },
  {
   "cell_type": "code",
   "execution_count": null,
   "metadata": {},
   "outputs": [],
   "source": [
    "# # # 对factor用中位数去极值\n",
    "# def winsorize_med(data, scale=2, inclusive=True, inf2nan=True, axis=0):\n",
    "#    \"\"\"\n",
    "#    data: pd.Series/pd.DataFrame/np.array, 待缩尾的序列\n",
    "#    scale: 倍数，默认为 1.0。会将位于 [med - scale * distance, med + scale * distance] 边界之外的值替换为边界值/np.nan\n",
    "#    inclusive bool 是否将位于边界之外的值替换为边界值，默认为 True。 如果为 True，则将边界之外的值替换为边界值，否则则替换为 np.nan\n",
    "#    inf2nan: 是否将 np.inf 和 -np.inf 替换成 np.nan，默认为 True。如果为 True，在缩尾之前会先将 np.inf 和 -np.inf 替换成 np.nan，缩尾的时候不会考虑 np.nan，否则 inf 被认为是在上界之上，-inf 被认为在下界之下\n",
    "#    axis: 在 data 为 pd.DataFrame 时使用，沿哪个方向做标准化，默认为 1。0 为对每列做缩尾，1 为对每行做缩尾\n",
    "#    \"\"\"\n",
    "#    if isinstance(data, pd.DataFrame):\n",
    "#        if axis == 0:\n",
    "#            data = data.apply(lambda x: _winsorize_med(x, scale, inclusive, inf2nan), axis=1)\n",
    "#        elif axis == 1:\n",
    "#            data = data.apply(lambda x: _winsorize_med(x, scale, inclusive, inf2nan), axis=0)\n",
    "#        else:\n",
    "#            raise ValueError(\"axis must be 0 or 1\")\n",
    "#    elif isinstance(data, pd.Series):\n",
    "#        data = _winsorize_med(data, scale, inclusive, inf2nan)\n",
    "#    elif isinstance(data, np.ndarray):\n",
    "#        data = _winsorize_med(pd.Series(data), scale, inclusive, inf2nan).values\n",
    "#    else:\n",
    "#        raise ValueError(\"data must be pd.Series/pd.DataFrame/np.array\")\n",
    "\n",
    "#    return data\n",
    "\n",
    "# def _winsorize_med(data, scale=1, inclusive=True, inf2nan=True):\n",
    "#    if inf2nan:\n",
    "#        data = pd.Series(data).replace([np.inf, -np.inf], np.nan)\n",
    "#    else:\n",
    "#        data = pd.Series(data)\n",
    "\n",
    "#    data = data.astype(np.float64)\n",
    "#    med = data.median()\n",
    "#    distance = abs(data - med)\n",
    "#    distance = distance.median()\n",
    "\n",
    "#    lower_bound = med - scale * distance\n",
    "#    upper_bound = med + scale * distance\n",
    "#    if inclusive:\n",
    "#        data[data < lower_bound] = lower_bound\n",
    "#        data[data > upper_bound] = upper_bound\n",
    "#    else:\n",
    "#        data[data < lower_bound] = np.nan\n",
    "#        data[data > upper_bound] = np.nan\n",
    "\n",
    "#    return data\n"
   ]
  },
  {
   "cell_type": "code",
   "execution_count": null,
   "metadata": {},
   "outputs": [],
   "source": [
    "# # 因子标准化\n",
    "# def factor_standardization(factor_data,inf2nan=True,axis=1):\n",
    "#     \"\"\"\n",
    "#     因子标准化\n",
    "#     :param factor_data: 因子数据,dataframe\n",
    "#     :param inf2nan: 是否将inf值替换为nan\n",
    "#     :param axis: 标准化方向，0为列标准化，1为行标准化\n",
    "#     :return: 标准化后的因子数据\n",
    "#     \"\"\"\n",
    "#     factor_data = factor_data.copy()\n",
    "#     if inf2nan:\n",
    "#         factor_data[np.isinf(factor_data)] = np.nan\n",
    "#     mean = np.nanmean(factor_data,axis=axis)\n",
    "#     std = np.nanstd(factor_data,axis=axis)\n",
    "#     factor_data = (factor_data.T - mean) / std\n",
    "#     # print(len(mean))\n",
    "#     return factor_data.T"
   ]
  },
  {
   "cell_type": "code",
   "execution_count": null,
   "metadata": {},
   "outputs": [],
   "source": [
    "def get_prepare_data_of_analyze(prepare_date_bar,prepare_factor,winsorize_med_tf=False,scale=13,factor_standardization_tf=False):\n",
    "    import datetime\n",
    "    prepare_date_bar = prepare_date_bar.dropna()\n",
    "    prepare_factor = prepare_factor.dropna()\n",
    "    prepare_price = prepare_date_bar['close'].unstack().T\n",
    "    del prepare_date_bar\n",
    "    prepare_factor = prepare_factor.unstack().T \n",
    "    price_date_idx_list = prepare_price.index\n",
    "    factor_date_idx_list = prepare_factor.index\n",
    "    price_date_datetime_idx = [datetime.datetime.strptime(str(date_idx),'%Y%m%d') for date_idx in price_date_idx_list]\n",
    "    factor_date_datetime_idx = [datetime.datetime.strptime(str(date_idx),'%Y%m%d') for date_idx in factor_date_idx_list]\n",
    "    del price_date_idx_list,factor_date_idx_list\n",
    "    prepare_price.index = price_date_datetime_idx\n",
    "    prepare_factor.index = factor_date_datetime_idx\n",
    "    del price_date_datetime_idx,factor_date_datetime_idx\n",
    "    # if winsorize_med_tf:\n",
    "    #     prepare_factor = winsorize_med(prepare_factor,scale,inclusive=True)\n",
    "    # if factor_standardization_tf:\n",
    "    #     prepare_factor = factor_standardization(prepare_factor,axis=1)\n",
    "    return prepare_price,prepare_factor"
   ]
  },
  {
   "cell_type": "code",
   "execution_count": null,
   "metadata": {},
   "outputs": [],
   "source": [
    "start_date,end_date = 20200101,20220101\n",
    "check_start_date = start_date + 10000"
   ]
  },
  {
   "cell_type": "code",
   "execution_count": null,
   "metadata": {},
   "outputs": [],
   "source": [
    "from scipy import stats\n",
    "def calc_abs_ic(forward_returns:pd.Series,factor_data:pd.Series):\n",
    "    returns = forward_returns.copy().dropna()\n",
    "    factor_data = factor_data.copy().dropna()\n",
    "    inner_index = factor_data.index.intersection(returns.index)\n",
    "    returns = returns.loc[inner_index,]\n",
    "    factor_data = factor_data.loc[inner_index,]\n",
    "    ic = stats.pearsonr(returns,factor_data)\n",
    "    return ic "
   ]
  },
  {
   "cell_type": "code",
   "execution_count": null,
   "metadata": {},
   "outputs": [],
   "source": [
    "prepare_date_bar = get_prepare_date_bar(a_date_bar,start_date,end_date)"
   ]
  },
  {
   "cell_type": "code",
   "execution_count": null,
   "metadata": {},
   "outputs": [],
   "source": [
    "forward_return = prepare_date_bar['close'].groupby('stk',group_keys=False).pct_change(1).shift(-1)\n",
    "periods = (1,)"
   ]
  },
  {
   "cell_type": "markdown",
   "metadata": {},
   "source": [
    "## 1 price_speed_factor"
   ]
  },
  {
   "cell_type": "code",
   "execution_count": null,
   "metadata": {},
   "outputs": [],
   "source": [
    "# 1_price_speed_factor\n",
    "price_speed_factor = factor_repo.PriceSpeed(['close'],prepare_date_bar)\n",
    "factor_data = price_speed_factor.calc()\n",
    "factor_data = factor_data.loc[idx[:,check_start_date:end_date]]\n",
    "prepare_price,prepare_factor = get_prepare_data_of_analyze(prepare_date_bar,factor_data)\n",
    "# print(prepare_factor.stack().describe())\n",
    "prepare_factor.stack().hist(bins=200)\n",
    "\n",
    "abs_ic = calc_abs_ic(forward_return,factor_data)\n",
    "print('abs_ic:',abs_ic)"
   ]
  },
  {
   "cell_type": "code",
   "execution_count": null,
   "metadata": {},
   "outputs": [],
   "source": [
    "factor_analyzer = fa.FactorAnalyzer(prices=prepare_price,factor=prepare_factor,quantiles=10,periods=periods,max_loss=0.3)\n",
    "# factor_analyzer.create_summary_tear_sheet()\n",
    "# factor_analyzer.create_full_tear_sheet()\n",
    "factor_analyzer.plot_information_table(method='normal')\n",
    "factor_analyzer.plot_ic_hist(method='normal')\n",
    "factor_analyzer.plot_ic_ts(method='normal')"
   ]
  },
  {
   "cell_type": "markdown",
   "metadata": {},
   "source": [
    "## 2 price_speed_change_factor"
   ]
  },
  {
   "cell_type": "code",
   "execution_count": null,
   "metadata": {},
   "outputs": [],
   "source": [
    "price_speed_change_factor = factor_repo.PriceSpeedChange(['close'],prepare_date_bar)\n",
    "factor_data_a = price_speed_change_factor.calc()\n",
    "# factor_data = factor_data.loc[idx[:,check_start_date:end_date]]\n",
    "prepare_price,prepare_factor = get_prepare_data_of_analyze(prepare_date_bar,factor_data)\n",
    "# print(prepare_factor.stack().describe())\n",
    "prepare_factor.stack().hist(bins=200)\n",
    "abs_ic = calc_abs_ic(forward_return,factor_data)\n",
    "print('abs_ic:',abs_ic)"
   ]
  },
  {
   "cell_type": "code",
   "execution_count": null,
   "metadata": {},
   "outputs": [],
   "source": [
    "periods = (1,)\n",
    "factor_analyzer = fa.FactorAnalyzer(prices=prepare_price,factor=prepare_factor,quantiles=10,periods=periods,max_loss=0.3)\n",
    "# factor_analyzer.create_summary_tear_sheet()\n",
    "# factor_analyzer.create_full_tear_sheet()\n",
    "factor_analyzer.plot_information_table(method='normal')\n",
    "factor_analyzer.plot_ic_hist(method='normal')\n",
    "factor_analyzer.plot_ic_ts(method='normal')\n",
    "# factor_analyzer.plot_ic_qq(method='normal')\n"
   ]
  },
  {
   "cell_type": "markdown",
   "metadata": {},
   "source": [
    "## 3.force_factor"
   ]
  },
  {
   "cell_type": "code",
   "execution_count": null,
   "metadata": {},
   "outputs": [],
   "source": [
    "force_factor = factor_repo.Force(['close'],prepare_date_bar)\n",
    "factor_data = force_factor.calc()\n",
    "factor_data = factor_data.loc[idx[:,check_start_date:end_date]]\n",
    "prepare_price,prepare_factor = get_prepare_data_of_analyze(prepare_date_bar,factor_data)\n",
    "# prepare_factor = prepare_factor.loc[check_start_date:check_end_date,:]\n",
    "# print(prepare_factor.stack().describe())\n",
    "prepare_factor.stack().hist(bins=200)\n",
    "abs_ic = calc_abs_ic(forward_return,factor_data)\n",
    "print('abs_ic:',abs_ic)"
   ]
  },
  {
   "cell_type": "code",
   "execution_count": null,
   "metadata": {},
   "outputs": [],
   "source": [
    "factor_analyzer = fa.FactorAnalyzer(prices=prepare_price,factor=prepare_factor,quantiles=10,periods=periods,max_loss=0.3)\n",
    "# factor_analyzer.create_summary_tear_sheet()\n",
    "# factor_analyzer.create_full_tear_sheet()\n",
    "factor_analyzer.plot_information_table(method='normal')\n",
    "factor_analyzer.plot_ic_hist(method='normal')\n",
    "factor_analyzer.plot_ic_ts(method='normal')\n",
    "# factor_analyzer.plot_ic_qq(method='normal')"
   ]
  },
  {
   "cell_type": "markdown",
   "metadata": {},
   "source": [
    "## 4.impluse_factor"
   ]
  },
  {
   "cell_type": "code",
   "execution_count": null,
   "metadata": {},
   "outputs": [],
   "source": [
    "impluse_factor = factor_repo.Impluse(['close'],prepare_date_bar)\n",
    "factor_data = impluse_factor.calc()\n",
    "factor_data = factor_data.loc[idx[:,check_start_date:end_date]]\n",
    "prepare_price,prepare_factor = get_prepare_data_of_analyze(prepare_date_bar,factor_data)\n",
    "# prepare_factor = prepare_factor.loc[check_start_date:check_end_date,:]\n",
    "# print(prepare_factor.stack().describe())\n",
    "prepare_factor.stack().hist(bins=200)\n",
    "abs_ic = calc_abs_ic(forward_return,factor_data)\n",
    "print('abs_ic:',abs_ic)"
   ]
  },
  {
   "cell_type": "code",
   "execution_count": null,
   "metadata": {},
   "outputs": [],
   "source": [
    "periods = (1,2,3,5,8,13,21,34,55)\n",
    "factor_analyzer = fa.FactorAnalyzer(prices=prepare_price,factor=prepare_factor,quantiles=10,periods=periods,max_loss=0.3)\n",
    "# factor_analyzer.create_summary_tear_sheet()\n",
    "# factor_analyzer.create_full_tear_sheet()\n",
    "factor_analyzer.plot_information_table(method='normal')\n",
    "factor_analyzer.plot_ic_hist(method='normal')\n",
    "factor_analyzer.plot_ic_ts(method='normal')\n",
    "# factor_analyzer.plot_ic_qq(method='normal')"
   ]
  },
  {
   "cell_type": "markdown",
   "metadata": {},
   "source": [
    "## 5.max_min_price_average_factor"
   ]
  },
  {
   "cell_type": "code",
   "execution_count": null,
   "metadata": {},
   "outputs": [],
   "source": [
    "max_min_price_average_factor = factor_repo.MaxMinPriceAverage(['close'],prepare_date_bar)\n",
    "factor_data = max_min_price_average_factor.calc()\n",
    "factor_data = factor_data.loc[idx[:,check_start_date:end_date]]\n",
    "prepare_price,prepare_factor = get_prepare_data_of_analyze(prepare_date_bar,factor_data)\n",
    "# prepare_factor = prepare_factor.loc[check_start_date:check_end_date,:]\n",
    "\n",
    "print(prepare_factor.stack().describe())\n",
    "prepare_factor.stack().hist(bins=200)\n",
    "abs_ic = calc_abs_ic(forward_return,factor_data)\n",
    "print('abs_ic:',abs_ic)"
   ]
  },
  {
   "cell_type": "code",
   "execution_count": null,
   "metadata": {},
   "outputs": [],
   "source": [
    "factor_analyzer = fa.FactorAnalyzer(prices=prepare_price,factor=prepare_factor,quantiles=3,periods=periods,max_loss=0.3)\n",
    "# factor_analyzer.create_summary_tear_sheet()\n",
    "# factor_analyzer.create_full_tear_sheet()\n",
    "factor_analyzer.plot_information_table(method='normal')\n",
    "factor_analyzer.plot_ic_hist(method='normal')\n",
    "factor_analyzer.plot_ic_ts(method='normal')\n",
    "# factor_analyzer.plot_ic_qq(method='normal')"
   ]
  },
  {
   "cell_type": "markdown",
   "metadata": {},
   "source": [
    "## 6.period_price_average_factor"
   ]
  },
  {
   "cell_type": "code",
   "execution_count": null,
   "metadata": {},
   "outputs": [],
   "source": [
    "period_price_average_factor = factor_repo.PeriodPriceAverage(['close'],prepare_date_bar)\n",
    "factor_data = period_price_average_factor.calc()\n",
    "factor_data = factor_data.loc[idx[:,check_start_date:end_date]]\n",
    "prepare_price,prepare_factor = get_prepare_data_of_analyze(prepare_date_bar,factor_data)\n",
    "# prepare_factor = prepare_factor.loc[check_start_date:check_end_date,:]\n",
    "print(prepare_factor.stack().describe())\n",
    "prepare_factor.stack().hist(bins=200)"
   ]
  },
  {
   "cell_type": "code",
   "execution_count": null,
   "metadata": {},
   "outputs": [],
   "source": [
    "factor_analyzer = fa.FactorAnalyzer(prices=prepare_price,factor=prepare_factor,quantiles=3,periods=periods)\n",
    "# factor_analyzer.create_summary_tear_sheet()\n",
    "# factor_analyzer.create_full_tear_sheet()\n",
    "factor_analyzer.plot_information_table(method='normal')\n",
    "factor_analyzer.plot_ic_hist(method='normal')\n",
    "factor_analyzer.plot_ic_ts(method='normal')\n",
    "# factor_analyzer.plot_ic_qq(method='normal')"
   ]
  },
  {
   "cell_type": "markdown",
   "metadata": {},
   "source": [
    "## 7.Elevation_factor"
   ]
  },
  {
   "cell_type": "code",
   "execution_count": null,
   "metadata": {},
   "outputs": [],
   "source": [
    "elevation_factor = factor_repo.Elevation(['close'],prepare_date_bar)\n",
    "factor_data = elevation_factor.calc(zero_elevation_type='mean')\n",
    "factor_data = factor_data.loc[idx[:,check_start_date:end_date]]\n",
    "prepare_price,prepare_factor = get_prepare_data_of_analyze(prepare_date_bar,factor_data)\n",
    "# prepare_factor = prepare_factor.loc[check_start_date:check_end_date,:]\n",
    "print(prepare_factor.stack().describe())\n",
    "prepare_factor.stack().hist(bins=200)"
   ]
  },
  {
   "cell_type": "code",
   "execution_count": null,
   "metadata": {},
   "outputs": [],
   "source": [
    "periods = (1,)\n",
    "factor_analyzer = fa.FactorAnalyzer(prices=prepare_price,factor=prepare_factor,quantiles=10,periods=periods)\n",
    "# factor_analyzer.create_summary_tear_sheet()\n",
    "# factor_analyzer.create_full_tear_sheet()\n",
    "factor_analyzer.plot_information_table(method='normal')\n",
    "factor_analyzer.plot_ic_hist(method='normal')\n",
    "factor_analyzer.plot_ic_ts(method='normal')\n",
    "# factor_analyzer.plot_ic_qq(method='normal')"
   ]
  },
  {
   "cell_type": "markdown",
   "metadata": {},
   "source": [
    "## 8.voltage factor"
   ]
  },
  {
   "cell_type": "code",
   "execution_count": null,
   "metadata": {},
   "outputs": [],
   "source": [
    "voltage_factor = factor_repo.Voltage(['close'],prepare_date_bar)\n",
    "factor_data = voltage_factor.calc()\n",
    "factor_data = factor_data.loc[idx[:,check_start_date:end_date]]\n",
    "prepare_price,prepare_factor = get_prepare_data_of_analyze(prepare_date_bar,factor_data)\n",
    "# prepare_factor = prepare_factor.loc[check_start_date:check_end_date,:]\n",
    "print(prepare_factor.stack().describe())\n",
    "prepare_factor.stack().hist(bins=200)"
   ]
  },
  {
   "cell_type": "code",
   "execution_count": null,
   "metadata": {},
   "outputs": [],
   "source": [
    "periods = (1,2,3,5,8,13,21,34,55)\n",
    "factor_analyzer = fa.FactorAnalyzer(prices=prepare_price,factor=prepare_factor,quantiles=10,periods=periods)\n",
    "# factor_analyzer.create_summary_tear_sheet()\n",
    "# factor_analyzer.create_full_tear_sheet()\n",
    "factor_analyzer.plot_information_table(method='normal')\n",
    "factor_analyzer.plot_ic_hist(method='normal')\n",
    "factor_analyzer.plot_ic_ts(method='normal')\n",
    "# factor_analyzer.plot_ic_qq(method='normal')"
   ]
  },
  {
   "cell_type": "markdown",
   "metadata": {},
   "source": [
    "## 9.current_factor"
   ]
  },
  {
   "cell_type": "code",
   "execution_count": null,
   "metadata": {},
   "outputs": [],
   "source": [
    "current_factor = factor_repo.Current(['close'],prepare_date_bar)\n",
    "# factor_data = current_factor.calc(zero_elevation_type='p(delta_t)')\n",
    "factor_data = current_factor.calc(zero_elevation_type='mean')\n",
    "factor_data = factor_data.loc[idx[:,check_start_date:end_date]]\n",
    "prepare_price,prepare_factor = get_prepare_data_of_analyze(prepare_date_bar,factor_data)\n",
    "# prepare_factor = prepare_factor.loc[check_start_date:check_end_date,:]\n",
    "print(prepare_factor.stack().describe())\n",
    "prepare_factor.stack().hist(bins=200)\n",
    "abs_ic = calc_abs_ic(forward_return,factor_data)\n",
    "print('abs_ic:',abs_ic)"
   ]
  },
  {
   "cell_type": "code",
   "execution_count": null,
   "metadata": {},
   "outputs": [],
   "source": [
    "factor_analyzer = fa.FactorAnalyzer(prices=prepare_price,factor=prepare_factor,quantiles=10,periods=periods)\n",
    "# factor_analyzer.create_summary_tear_sheet()\n",
    "# factor_analyzer.create_full_tear_sheet()\n",
    "factor_analyzer.plot_information_table(method='normal')\n",
    "factor_analyzer.plot_ic_hist(method='normal')\n",
    "factor_analyzer.plot_ic_ts(method='normal')\n",
    "# factor_analyzer.plot_ic_qq(method='normal')"
   ]
  },
  {
   "cell_type": "markdown",
   "metadata": {},
   "source": [
    "## 10.return_accumulation_factor"
   ]
  },
  {
   "cell_type": "code",
   "execution_count": null,
   "metadata": {},
   "outputs": [],
   "source": [
    "return_accumulation_factor = factor_repo.ReturnAccumulation(['close'],prepare_date_bar)\n",
    "factor_data = return_accumulation_factor.calc()\n",
    "factor_data = factor_data.loc[idx[:,check_start_date:end_date]]\n",
    "prepare_price,prepare_factor = get_prepare_data_of_analyze(prepare_date_bar,factor_data)\n",
    "# prepare_factor = prepare_factor.loc[check_start_date:check_end_date,:]\n",
    "print(prepare_factor.stack().describe())\n",
    "prepare_factor.stack().hist(bins=200)\n",
    "bs_ic = calc_abs_ic(forward_return,factor_data)\n",
    "print('abs_ic:',abs_ic)"
   ]
  },
  {
   "cell_type": "code",
   "execution_count": null,
   "metadata": {},
   "outputs": [],
   "source": [
    "factor_analyzer = fa.FactorAnalyzer(prices=prepare_price,factor=prepare_factor,quantiles=10,periods=periods)\n",
    "# factor_analyzer.create_summary_tear_sheet()\n",
    "# factor_analyzer.create_full_tear_sheet()\n",
    "factor_analyzer.plot_information_table(method='normal')\n",
    "factor_analyzer.plot_ic_hist(method='normal')\n",
    "factor_analyzer.plot_ic_ts(method='normal')\n",
    "# factor_analyzer.plot_ic_qq(method='normal')"
   ]
  }
 ],
 "metadata": {
  "kernelspec": {
   "display_name": "base",
   "language": "python",
   "name": "python3"
  },
  "language_info": {
   "codemirror_mode": {
    "name": "ipython",
    "version": 3
   },
   "file_extension": ".py",
   "mimetype": "text/x-python",
   "name": "python",
   "nbconvert_exporter": "python",
   "pygments_lexer": "ipython3",
   "version": "3.11.3"
  }
 },
 "nbformat": 4,
 "nbformat_minor": 2
}
