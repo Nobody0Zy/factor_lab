{
 "cells": [
  {
   "cell_type": "code",
   "execution_count": null,
   "metadata": {},
   "outputs": [],
   "source": [
    "import pandas as pd\n",
    "import numpy as np"
   ]
  },
  {
   "cell_type": "code",
   "execution_count": null,
   "metadata": {},
   "outputs": [],
   "source": [
    "idx = pd.IndexSlice"
   ]
  },
  {
   "cell_type": "code",
   "execution_count": null,
   "metadata": {},
   "outputs": [],
   "source": [
    "idx = pd.IndexSlice\n",
    "\n",
    "def read_date_bar(file_path):\n",
    "    return pd.read_pickle(file_path)\n",
    "\n",
    "def get_stk_list(date_bar):\n",
    "    total_stk_list = list(date_bar.index.get_level_values(0).unique())\n",
    "    index_codes_list = [idx_code  for idx_code in total_stk_list if (idx_code<'sh600000')|(idx_code>'sz399000')]\n",
    "    stks_list = [security  for security in total_stk_list if security not in index_codes_list]\n",
    "    return stks_list\n",
    "\n",
    "def get_prepare_data(date_bar,fields,stk_list,del_paused=False,every_date_stk_nums=None,start_date=None,end_date=None)->pd.Series:\n",
    "    data = date_bar.copy()\n",
    "    data.index.names = ['stk','date']\n",
    "    \n",
    "    \n",
    "    if stk_list:\n",
    "        data = data.loc[idx[stk_list,:],:]\n",
    "        \n",
    "    if every_date_stk_nums:\n",
    "        if del_paused:\n",
    "            data = data[data['paused']==0]\n",
    "    \n",
    "        data = data.groupby('date',group_keys=False).apply(lambda s:s.sample(every_date_stk_nums) if len(s)>every_date_stk_nums else s)\n",
    "        data.sort_index(inplace=True)\n",
    "        \n",
    "    if start_date:\n",
    "        data = data.loc[idx[:,start_date:],:]\n",
    "    if end_date:\n",
    "        data = data.loc[idx[:,:end_date],:]\n",
    "    if start_date and end_date:\n",
    "        data = data.loc[idx[:,start_date:end_date],:]\n",
    "    \n",
    "    data = data.loc[:,fields]\n",
    "    return data\n",
    "\n",
    "def calc_forward_returns(price_data,window_size=1)->pd.Series:\n",
    "    forward_returns = price_data.groupby('stk',group_keys=False).apply(lambda s:s.pct_change(window_size).shift(-window_size).iloc[:-1])\n",
    "    return forward_returns\n",
    "    \n",
    "def get_random_factor_data(forward_returns,repetitions_num=10,random_type='normal'):\n",
    "    forward_returns_dropna = forward_returns.dropna()\n",
    "    factor_values_num = len(forward_returns_dropna)\n",
    "    if random_type == 'uniform':\n",
    "        factor_values =  np.random.uniform(0,1,factor_values_num)\n",
    "    elif random_type == 'normal':\n",
    "        factor_values = np.random.normal(0,1,size=(factor_values_num,repetitions_num))\n",
    "    factor_data = pd.DataFrame(factor_values,index=forward_returns_dropna.index,columns=['ic']*repetitions_num)\n",
    "    return factor_data\n",
    "\n",
    "def calc_total_abs_ic(factor_data,forward_returns):\n",
    "    forward_returns_dropna = forward_returns.dropna()\n",
    "    del forward_returns\n",
    "    forward_returns_dropna.columns = ['ic']\n",
    "    abs_ic = forward_returns_dropna.corrwith(factor_data['ic'],axis=0)\n",
    "    return abs_ic\n",
    "\n",
    "def calc_yearly_abs_ic(factor_data,forward_returns):\n",
    "    forward_returns = forward_returns.copy()\n",
    "    forward_returns_dropna = forward_returns.dropna()\n",
    "    forward_returns_dropna.columns = ['ic']\n",
    "    date_idx = forward_returns_dropna.index.get_level_values('date')\n",
    "    year_array = np.array([date//10000 for date in date_idx])\n",
    "    forward_returns_dropna['year'] = year_array\n",
    "    factor_data['year'] = year_array\n",
    "    year_abs_ic = forward_returns_dropna.groupby('year').apply(lambda s:s.corrwith(factor_data.loc[s.index,'ic'],axis=0))\n",
    "    return year_abs_ic"
   ]
  },
  {
   "cell_type": "code",
   "execution_count": null,
   "metadata": {},
   "outputs": [],
   "source": [
    "# a_date_bar_file_path = r'D:\\QUANT_GAME\\python_game\\pythonProject\\DATA\\local_stable_data\\stock\\CN_stock_data\\dateBar.pkl'\n",
    "a_date_bar_file_path = r'D:\\QUANT_GAME\\python_game\\factor\\factor_lab\\get_date_bar\\date_bar_post.pkl'\n",
    "a_date_bar = read_date_bar(a_date_bar_file_path)\n",
    "stks_list = get_stk_list(a_date_bar)\n",
    "fields = ['close']\n",
    "prepare_price_data = get_prepare_data(a_date_bar,fields,stks_list,del_paused=False,every_date_stk_nums=1000)\n",
    "forward_returns = calc_forward_returns(prepare_price_data)\n",
    "factor_data = get_random_factor_data(forward_returns,repetitions_num=300,random_type='normal')"
   ]
  },
  {
   "cell_type": "code",
   "execution_count": null,
   "metadata": {},
   "outputs": [],
   "source": [
    "check_isna = forward_returns[forward_returns.isna().any(axis=1)]"
   ]
  },
  {
   "cell_type": "code",
   "execution_count": null,
   "metadata": {},
   "outputs": [],
   "source": [
    "print(forward_returns.isna().sum())"
   ]
  },
  {
   "cell_type": "code",
   "execution_count": null,
   "metadata": {},
   "outputs": [],
   "source": [
    "abs_ic = calc_total_abs_ic(factor_data,forward_returns)"
   ]
  },
  {
   "cell_type": "code",
   "execution_count": null,
   "metadata": {},
   "outputs": [],
   "source": [
    "yearly_abs_ic = calc_yearly_abs_ic(factor_data,forward_returns)"
   ]
  },
  {
   "cell_type": "code",
   "execution_count": null,
   "metadata": {},
   "outputs": [],
   "source": [
    "yearly_std_ic = yearly_abs_ic.std(axis=1)"
   ]
  },
  {
   "cell_type": "markdown",
   "metadata": {},
   "source": [
    "-----"
   ]
  },
  {
   "cell_type": "code",
   "execution_count": null,
   "metadata": {},
   "outputs": [],
   "source": [
    "m = abs_ic.mean()\n",
    "std = abs_ic.std()\n",
    "# 打印m，打印前十位小数\n",
    "print('%.10f' % m)\n",
    "print('%.10f' % std)"
   ]
  },
  {
   "cell_type": "code",
   "execution_count": null,
   "metadata": {},
   "outputs": [],
   "source": [
    "t = prepare_price_data.groupby('date').apply(lambda s:s.isna().sum()/len(s))"
   ]
  },
  {
   "cell_type": "code",
   "execution_count": null,
   "metadata": {},
   "outputs": [],
   "source": [
    "date_list = forward_returns.index.get_level_values('date').to_list()\n",
    "year_array = np.array([date//10000 for date in date_list])"
   ]
  },
  {
   "cell_type": "code",
   "execution_count": null,
   "metadata": {},
   "outputs": [],
   "source": [
    "forward_returns['year'] = year_array"
   ]
  },
  {
   "cell_type": "code",
   "execution_count": null,
   "metadata": {},
   "outputs": [],
   "source": [
    "forward_returns['paused'] = a_date_bar.loc[forward_returns.index,'paused']"
   ]
  },
  {
   "cell_type": "code",
   "execution_count": null,
   "metadata": {},
   "outputs": [],
   "source": [
    "yearly_is_not_paused = forward_returns.groupby('year').apply(lambda df:len(df[df['paused']==0])/len(df))"
   ]
  },
  {
   "cell_type": "code",
   "execution_count": null,
   "metadata": {},
   "outputs": [],
   "source": [
    "yearly_count = forward_returns.groupby('year').apply(lambda df: df.shape[0]/df.index.get_level_values('date').unique().size)"
   ]
  },
  {
   "cell_type": "code",
   "execution_count": null,
   "metadata": {},
   "outputs": [],
   "source": [
    "yearly_std_ic_df = pd.DataFrame(yearly_std_ic,columns=['yearly_std_ic'])"
   ]
  },
  {
   "cell_type": "code",
   "execution_count": null,
   "metadata": {},
   "outputs": [],
   "source": [
    "yearly_std_ic_df['yearly_is_not_paused'] = yearly_is_not_paused"
   ]
  },
  {
   "cell_type": "code",
   "execution_count": null,
   "metadata": {},
   "outputs": [],
   "source": [
    "yearly_std_ic_df['yearly_stks_avg_count'] = yearly_count"
   ]
  },
  {
   "cell_type": "code",
   "execution_count": null,
   "metadata": {},
   "outputs": [],
   "source": [
    "yearly_std_ic_df.corr()"
   ]
  },
  {
   "cell_type": "code",
   "execution_count": null,
   "metadata": {},
   "outputs": [],
   "source": []
  }
 ],
 "metadata": {
  "kernelspec": {
   "display_name": "base",
   "language": "python",
   "name": "python3"
  },
  "language_info": {
   "codemirror_mode": {
    "name": "ipython",
    "version": 3
   },
   "file_extension": ".py",
   "mimetype": "text/x-python",
   "name": "python",
   "nbconvert_exporter": "python",
   "pygments_lexer": "ipython3",
   "version": "3.11.3"
  }
 },
 "nbformat": 4,
 "nbformat_minor": 2
}
