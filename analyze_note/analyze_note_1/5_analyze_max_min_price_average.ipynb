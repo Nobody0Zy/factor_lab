{
 "cells": [
  {
   "cell_type": "code",
   "execution_count": null,
   "metadata": {},
   "outputs": [],
   "source": [
    "import sys\n",
    "sys.path.append('d:\\\\QUANT_GAME\\\\python_game\\\\factor\\\\factor_lab\\\\analyze_note')\n",
    "from analyze_factor_note_init import AnalyzeFactorNotes as Note"
   ]
  },
  {
   "cell_type": "markdown",
   "metadata": {},
   "source": [
    "---"
   ]
  },
  {
   "cell_type": "markdown",
   "metadata": {},
   "source": [
    "### 初始化条件"
   ]
  },
  {
   "cell_type": "code",
   "execution_count": null,
   "metadata": {},
   "outputs": [],
   "source": [
    "factor_name = 'max_min_price_average'\n",
    "start_date = 20100101\n",
    "end_date = 20210101\n",
    "med_tf = False\n",
    "z_score_tf = False\n",
    "demean_tf = False\n",
    "sample_num = None\n",
    "sample_every_date_tf = False"
   ]
  },
  {
   "cell_type": "code",
   "execution_count": null,
   "metadata": {},
   "outputs": [],
   "source": [
    "note = Note(factor_name, start_date, end_date,\n",
    "                med_tf, z_score_tf, demean_tf,\n",
    "                sample_num,sample_every_date_tf\n",
    "            )"
   ]
  },
  {
   "cell_type": "markdown",
   "metadata": {},
   "source": [
    "#### 加载数据"
   ]
  },
  {
   "cell_type": "code",
   "execution_count": null,
   "metadata": {},
   "outputs": [],
   "source": [
    "note.load_data()"
   ]
  },
  {
   "cell_type": "markdown",
   "metadata": {},
   "source": [
    "---"
   ]
  },
  {
   "cell_type": "markdown",
   "metadata": {},
   "source": [
    "#### 查看因子相关信息"
   ]
  },
  {
   "cell_type": "markdown",
   "metadata": {},
   "source": [
    "##### - 因子定义及计算公式"
   ]
  },
  {
   "cell_type": "markdown",
   "metadata": {},
   "source": [
    "因子名称： 最大最小价格平均因子(max_min_price_average)   \n",
    "因子定义： 时间窗口$\\delta t$内，最高价和最低价的算数平均与最高价和最低价几何平均的比值   \n",
    "时间窗口$\\delta t$(默认20个交易日)内:\n",
    "$$\n",
    "MaxPrice = max(Price_t,Price_{t-\\delta t},...,Price_{t-\\delta t})\n",
    "$$\n",
    "$$\n",
    "MinPrice = min(Price_t,Price_{t-\\delta t},...,Price_{t-\\delta t})\n",
    "$$\n",
    "$$\n",
    "factor = \\frac{MaxPrice + MinPrice}{2} /\\sqrt{MaxPrice * MinPrice}\n",
    "$$"
   ]
  },
  {
   "cell_type": "markdown",
   "metadata": {},
   "source": [
    "#### - 因子信息"
   ]
  },
  {
   "cell_type": "code",
   "execution_count": null,
   "metadata": {},
   "outputs": [],
   "source": [
    "factor_info = note.get_factor_info()\n",
    "for k,v in factor_info.items():\n",
    "    print(k,':',v)"
   ]
  },
  {
   "cell_type": "markdown",
   "metadata": {},
   "source": [
    "---"
   ]
  },
  {
   "cell_type": "markdown",
   "metadata": {},
   "source": [
    "### 因子分析"
   ]
  },
  {
   "cell_type": "code",
   "execution_count": null,
   "metadata": {},
   "outputs": [],
   "source": [
    "note.get_data_for_analysis()"
   ]
  },
  {
   "cell_type": "code",
   "execution_count": null,
   "metadata": {},
   "outputs": [],
   "source": [
    "zy_fa = note.analysis_factor()"
   ]
  },
  {
   "cell_type": "markdown",
   "metadata": {},
   "source": [
    "#### 绘制factor-return散点图"
   ]
  },
  {
   "cell_type": "markdown",
   "metadata": {},
   "source": [
    "- 全部数据"
   ]
  },
  {
   "cell_type": "code",
   "execution_count": null,
   "metadata": {},
   "outputs": [],
   "source": [
    "# normal\n",
    "zy_fa.plot_scatter_and_regression(periods_list=[1,],sample_num=None)\n",
    "# rank\n",
    "zy_fa.plot_scatter_and_regression(periods_list=[1,],rank_tf=True,sample_num=None)"
   ]
  },
  {
   "cell_type": "markdown",
   "metadata": {},
   "source": [
    "- 抽样100000"
   ]
  },
  {
   "cell_type": "code",
   "execution_count": null,
   "metadata": {},
   "outputs": [],
   "source": [
    "# normal\n",
    "zy_fa.plot_scatter_and_regression(periods_list=[1,],sample_num=10000)\n",
    "# rank\n",
    "zy_fa.plot_scatter_and_regression(periods_list=[1,],rank_tf=True,sample_num=10000)"
   ]
  },
  {
   "cell_type": "markdown",
   "metadata": {},
   "source": [
    "### 绘制因子分布图"
   ]
  },
  {
   "cell_type": "code",
   "execution_count": null,
   "metadata": {},
   "outputs": [],
   "source": [
    "# 原始因子分布图\n",
    "zy_fa.plot_factor_hist()\n",
    "# 剔除inf后的因子分布图\n",
    "zy_fa.plot_factor_hist(del_inf=True)\n",
    "# 截取分位数qrange的因子分布图\n",
    "zy_fa.plot_factor_hist(del_qrange=(0.005,0.995))\n",
    "# 截取给定range的因子分布图\n",
    "zy_fa.plot_factor_hist(del_range=(0,1.05))"
   ]
  },
  {
   "cell_type": "markdown",
   "metadata": {},
   "source": [
    "---"
   ]
  },
  {
   "cell_type": "markdown",
   "metadata": {},
   "source": [
    "#### IC"
   ]
  },
  {
   "cell_type": "markdown",
   "metadata": {},
   "source": [
    "#### 打印因子ic分析结果"
   ]
  },
  {
   "cell_type": "code",
   "execution_count": null,
   "metadata": {},
   "outputs": [],
   "source": [
    "analyze_ic_res = zy_fa.analyze_ic_res()\n",
    "print('analyze_ic_res:\\n',analyze_ic_res)\n"
   ]
  },
  {
   "cell_type": "markdown",
   "metadata": {},
   "source": [
    "---"
   ]
  },
  {
   "cell_type": "markdown",
   "metadata": {},
   "source": [
    "#### 绘制norm_ic的时序图"
   ]
  },
  {
   "cell_type": "code",
   "execution_count": null,
   "metadata": {},
   "outputs": [],
   "source": [
    "zy_fa.plot_norm_ic_ts()"
   ]
  },
  {
   "cell_type": "markdown",
   "metadata": {},
   "source": [
    "---"
   ]
  },
  {
   "cell_type": "markdown",
   "metadata": {},
   "source": [
    "#### 绘制rank_ic的时序图"
   ]
  },
  {
   "cell_type": "code",
   "execution_count": null,
   "metadata": {},
   "outputs": [],
   "source": [
    "zy_fa.plot_rank_ic_ts()"
   ]
  }
 ],
 "metadata": {
  "kernelspec": {
   "display_name": "base",
   "language": "python",
   "name": "python3"
  },
  "language_info": {
   "codemirror_mode": {
    "name": "ipython",
    "version": 3
   },
   "file_extension": ".py",
   "mimetype": "text/x-python",
   "name": "python",
   "nbconvert_exporter": "python",
   "pygments_lexer": "ipython3",
   "version": "3.11.9"
  }
 },
 "nbformat": 4,
 "nbformat_minor": 2
}
